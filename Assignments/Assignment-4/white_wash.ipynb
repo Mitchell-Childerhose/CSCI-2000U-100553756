{
 "cells": [
  {
   "cell_type": "code",
   "execution_count": 2,
   "metadata": {
    "collapsed": false
   },
   "outputs": [
    {
     "name": "stdout",
     "output_type": "stream",
     "text": [
      "[[  6.   3.   4.]\n",
      " [  7.  10.  18.]]\n"
     ]
    }
   ],
   "source": [
    "#Mitchell Childerhose (100553756)\n",
    "\n",
    "import numpy as np\n",
    "\n",
    "def WhiteWash(a):\n",
    "    white = np.array([[1,1,1],[1,1,1]])\n",
    "    #calculating the average of the two arrays\n",
    "    avg = (a + white)/2\n",
    "    print(avg)\n",
    "\n",
    "a = np.array([[11,5,7],[13,19,35]])\n",
    "\n",
    "#calling the WhiteWash function\n",
    "WhiteWash(a)"
   ]
  },
  {
   "cell_type": "code",
   "execution_count": null,
   "metadata": {
    "collapsed": true
   },
   "outputs": [],
   "source": []
  }
 ],
 "metadata": {
  "kernelspec": {
   "display_name": "Python 3",
   "language": "python",
   "name": "python3"
  },
  "language_info": {
   "codemirror_mode": {
    "name": "ipython",
    "version": 3
   },
   "file_extension": ".py",
   "mimetype": "text/x-python",
   "name": "python",
   "nbconvert_exporter": "python",
   "pygments_lexer": "ipython3",
   "version": "3.4.3"
  }
 },
 "nbformat": 4,
 "nbformat_minor": 0
}
