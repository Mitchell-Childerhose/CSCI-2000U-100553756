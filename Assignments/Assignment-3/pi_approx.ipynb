{
 "cells": [
  {
   "cell_type": "code",
   "execution_count": 128,
   "metadata": {
    "collapsed": false
   },
   "outputs": [
    {
     "name": "stdout",
     "output_type": "stream",
     "text": [
      "When n =      10, rho_n = 3.252366\n",
      "When n =      10, tau_n = 3.039508\n",
      "When n =      10,  mu_n = 3.141312\n",
      "When n =     100, rho_n = 3.151693\n",
      "When n =     100, tau_n = 3.131981\n",
      "When n =     100,  mu_n = 3.141592\n",
      "When n =    1000, rho_n = 3.142594\n",
      "When n =    1000, tau_n = 3.140637\n",
      "When n =    1000,  mu_n = 3.141593\n",
      "When n =   10000, rho_n = 3.141693\n",
      "When n =   10000, tau_n = 3.141497\n",
      "When n =   10000,  mu_n = 3.141593\n",
      "When n =  100000, rho_n = 3.141603\n",
      "When n =  100000, tau_n = 3.141583\n",
      "When n =  100000,  mu_n = 3.141593\n",
      "When n = 1000000, rho_n = 3.141594\n",
      "When n = 1000000, tau_n = 3.141592\n",
      "When n = 1000000,  mu_n = 3.141593\n"
     ]
    }
   ],
   "source": [
    "#Mitchell Childerhose (100553756)\n",
    "\n",
    "#Function to calculate sums using rho formula\n",
    "def rho_n(n):    \n",
    "    sum = 0\n",
    "    for k in range(1,n):\n",
    "        sum = sum + (-1)**(k + 1) / (2 * k - 1)\n",
    "    sum = sum * 4    \n",
    "    return sum\n",
    "\n",
    "#Function to calculate sums using tau formula\n",
    "def tau_n(n):\n",
    "    sum = 0\n",
    "    for k in range(1,n):\n",
    "        sum = sum + 1/(k**2)\n",
    "    sum = sum * 6  \n",
    "    sum = sum**(1/2)\n",
    "    return sum\n",
    "\n",
    "#Function to calculate sums using mu formula\n",
    "def mu_n(n):\n",
    "    sum = 0\n",
    "    for k in range(1,n):\n",
    "        sum = sum + 1/(k**4)\n",
    "    sum = sum * 90  \n",
    "    sum = sum**(1/4)\n",
    "    return sum\n",
    "\n",
    "print((\"When n =      10, rho_n = %f\") % rho_n(10))\n",
    "print((\"When n =      10, tau_n = %f\") % tau_n(10))\n",
    "print((\"When n =      10,  mu_n = %f\") % mu_n(10))\n",
    "\n",
    "print((\"When n =     100, rho_n = %f\") % rho_n(100))\n",
    "print((\"When n =     100, tau_n = %f\") % tau_n(100))\n",
    "print((\"When n =     100,  mu_n = %f\") % mu_n(100))\n",
    "\n",
    "print((\"When n =    1000, rho_n = %f\") % rho_n(1000))\n",
    "print((\"When n =    1000, tau_n = %f\") % tau_n(1000))\n",
    "print((\"When n =    1000,  mu_n = %f\") % mu_n(1000))\n",
    "\n",
    "print((\"When n =   10000, rho_n = %f\") % rho_n(10000))\n",
    "print((\"When n =   10000, tau_n = %f\") % tau_n(10000))\n",
    "print((\"When n =   10000,  mu_n = %f\") % mu_n(10000))\n",
    "\n",
    "print((\"When n =  100000, rho_n = %f\") % rho_n(100000))\n",
    "print((\"When n =  100000, tau_n = %f\") % tau_n(100000))\n",
    "print((\"When n =  100000,  mu_n = %f\") % mu_n(100000))\n",
    "\n",
    "print((\"When n = 1000000, rho_n = %f\") % rho_n(1000000))\n",
    "print((\"When n = 1000000, tau_n = %f\") % tau_n(1000000))\n",
    "print((\"When n = 1000000,  mu_n = %f\") % mu_n(1000000))\n",
    "\n",
    "\n"
   ]
  },
  {
   "cell_type": "code",
   "execution_count": null,
   "metadata": {
    "collapsed": true
   },
   "outputs": [],
   "source": []
  }
 ],
 "metadata": {
  "kernelspec": {
   "display_name": "Python 3",
   "language": "python",
   "name": "python3"
  },
  "language_info": {
   "codemirror_mode": {
    "name": "ipython",
    "version": 3
   },
   "file_extension": ".py",
   "mimetype": "text/x-python",
   "name": "python",
   "nbconvert_exporter": "python",
   "pygments_lexer": "ipython3",
   "version": "3.4.3"
  }
 },
 "nbformat": 4,
 "nbformat_minor": 0
}
