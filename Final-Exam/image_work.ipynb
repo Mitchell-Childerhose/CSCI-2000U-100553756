{
 "cells": [
  {
   "cell_type": "code",
   "execution_count": 6,
   "metadata": {
    "collapsed": false
   },
   "outputs": [
    {
     "ename": "SyntaxError",
     "evalue": "invalid syntax (<ipython-input-6-4e224f125686>, line 12)",
     "output_type": "error",
     "traceback": [
      "\u001b[1;36m  File \u001b[1;32m\"<ipython-input-6-4e224f125686>\"\u001b[1;36m, line \u001b[1;32m12\u001b[0m\n\u001b[1;33m    gray_peppers = x[]\u001b[0m\n\u001b[1;37m                     ^\u001b[0m\n\u001b[1;31mSyntaxError\u001b[0m\u001b[1;31m:\u001b[0m invalid syntax\n"
     ]
    }
   ],
   "source": [
    "#Mitchell Childerhose (100553756)\n",
    "\n",
    "%matplotlib inline\n",
    "import numpy as np\n",
    "import matplotlib.pyplot as plt\n",
    "\n",
    "rgb_peppers = \"peppers.png\"\n",
    "print(dimensions(rgb_peppers))\n",
    "gray_peppers = plt.imshow(interpolation='nearest', cmap='gray')\n",
    "\n",
    "gray_peppers.max()\n",
    "gray_peppers.min()\n",
    "\n",
    "gray_peppers = x[]\n",
    "plt.hist(x, 50)"
   ]
  },
  {
   "cell_type": "code",
   "execution_count": null,
   "metadata": {
    "collapsed": true
   },
   "outputs": [],
   "source": []
  }
 ],
 "metadata": {
  "kernelspec": {
   "display_name": "Python 3",
   "language": "python",
   "name": "python3"
  },
  "language_info": {
   "codemirror_mode": {
    "name": "ipython",
    "version": 3
   },
   "file_extension": ".py",
   "mimetype": "text/x-python",
   "name": "python",
   "nbconvert_exporter": "python",
   "pygments_lexer": "ipython3",
   "version": "3.4.3"
  }
 },
 "nbformat": 4,
 "nbformat_minor": 0
}
